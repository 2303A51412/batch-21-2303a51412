{
  "nbformat": 4,
  "nbformat_minor": 0,
  "metadata": {
    "colab": {
      "provenance": [],
      "authorship_tag": "ABX9TyNUrjqxugYJ06o//Br6C5/U",
      "include_colab_link": true
    },
    "kernelspec": {
      "name": "python3",
      "display_name": "Python 3"
    },
    "language_info": {
      "name": "python"
    }
  },
  "cells": [
    {
      "cell_type": "markdown",
      "metadata": {
        "id": "view-in-github",
        "colab_type": "text"
      },
      "source": [
        "<a href=\"https://colab.research.google.com/github/2303A51412/batch-21-2303a51412/blob/main/21/08%20%202nd%20prblm.ipynb\" target=\"_parent\"><img src=\"https://colab.research.google.com/assets/colab-badge.svg\" alt=\"Open In Colab\"/></a>"
      ]
    },
    {
      "cell_type": "code",
      "execution_count": 1,
      "metadata": {
        "colab": {
          "base_uri": "https://localhost:8080/"
        },
        "id": "ZDQ2utEoMfRu",
        "outputId": "f3c65637-1d3c-4520-d48c-3b466b596671"
      },
      "outputs": [
        {
          "output_type": "stream",
          "name": "stdout",
          "text": [
            "First element: 10\n",
            "Last element: 50\n",
            "Slice[1:4]: [20 30 40]\n",
            "Every second element: [10 30 50]\n"
          ]
        }
      ],
      "source": [
        "import numpy as np\n",
        "arr = np.array([10,20,30,40,50])\n",
        "print(\"First element:\",arr[0])\n",
        "print(\"Last element:\",arr[-1])\n",
        "print(\"Slice[1:4]:\",arr[1:4])\n",
        "print(\"Every second element:\",arr[::2])"
      ]
    },
    {
      "cell_type": "code",
      "source": [
        "arr2=np.array([[1,2,3],[4,5,6]])\n",
        "print(\"Element at row 1,col2:\",arr2[0,1])\n",
        "print(\"second row:\",arr2[1::])\n",
        "print(\"Second column:\",arr2[:,1])"
      ],
      "metadata": {
        "colab": {
          "base_uri": "https://localhost:8080/"
        },
        "id": "eP-sHG0UO_5k",
        "outputId": "3ae605b2-75f0-41d1-d728-f5aa896ab244"
      },
      "execution_count": 2,
      "outputs": [
        {
          "output_type": "stream",
          "name": "stdout",
          "text": [
            "Element at row 1,col2: 2\n",
            "second row: [[4 5 6]]\n",
            "Second column: [2 5]\n"
          ]
        }
      ]
    }
  ]
}