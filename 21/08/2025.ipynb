{
  "nbformat": 4,
  "nbformat_minor": 0,
  "metadata": {
    "colab": {
      "provenance": [],
      "authorship_tag": "ABX9TyOyV07QOOq4PagCTOKwAEpu",
      "include_colab_link": true
    },
    "kernelspec": {
      "name": "python3",
      "display_name": "Python 3"
    },
    "language_info": {
      "name": "python"
    }
  },
  "cells": [
    {
      "cell_type": "markdown",
      "metadata": {
        "id": "view-in-github",
        "colab_type": "text"
      },
      "source": [
        "<a href=\"https://colab.research.google.com/github/2303A51412/batch-21-2303a51412/blob/main/21/08/2025.ipynb\" target=\"_parent\"><img src=\"https://colab.research.google.com/assets/colab-badge.svg\" alt=\"Open In Colab\"/></a>"
      ]
    },
    {
      "cell_type": "code",
      "execution_count": 1,
      "metadata": {
        "colab": {
          "base_uri": "https://localhost:8080/"
        },
        "id": "MdMg7Z9BJ1Tu",
        "outputId": "91867ac4-ffec-47d2-b7bc-567f2e9748e1"
      },
      "outputs": [
        {
          "output_type": "stream",
          "name": "stdout",
          "text": [
            "file content:\n",
            " Hello,B.Tech Students! \n",
            "this is file handling in python. \n",
            "Pavan \n",
            "Sr university. \n",
            "\n",
            "first line: Hello,B.Tech Students! \n",
            "\n",
            "Second line: this is file handling in python. \n",
            "\n",
            "Third Line: Pavan \n",
            "\n",
            "all lines as list: ['Hello,B.Tech Students! \\n', 'this is file handling in python. \\n', 'Pavan \\n', 'Sr university. \\n']\n",
            "first line: ['Hello,B.Tech Students! \\n', 'this is file handling in python. \\n', 'Pavan \\n', 'Sr university. \\n', 'appending new data...\\n']\n"
          ]
        }
      ],
      "source": [
        "fp = open(\"example.txt\",\"w\")\n",
        "fp.write(\"Hello,B.Tech Students! \\n\")\n",
        "fp.write(\"this is file handling in python. \\n\")\n",
        "fp.write(\"Pavan \\n\")\n",
        "fp.write(\"Sr university. \\n\")\n",
        "fp.close()\n",
        "file = open(\"example.txt\",\"r\")\n",
        "content = file.read()\n",
        "print(\"file content:\\n\",content)\n",
        "file.close()\n",
        "file = open(\"example.txt\",\"r\")\n",
        "line1=file.readline()\n",
        "print(\"first line:\", line1)\n",
        "line2 = file.readline()\n",
        "print(\"Second line:\",line2)\n",
        "line3=file.readline()\n",
        "print(\"Third Line:\",line3)\n",
        "file.close()\n",
        "file = open(\"example.txt\",\"r\")\n",
        "lines = file.readlines()\n",
        "print(\"all lines as list:\",lines)\n",
        "file.close()\n",
        "file = open(\"example.txt\", \"a\")\n",
        "file.write(\"appending new data...\\n\")\n",
        "file.close()\n",
        "file = open(\"example.txt\",\"r\")\n",
        "lines1=file.readlines()\n",
        "print(\"first line:\", lines1)"
      ]
    },
    {
      "cell_type": "code",
      "source": [
        "import csv\n",
        "with open(\"data.csv\", \"w\",newline='')as fp:\n",
        "    wr = csv.writer(fp)\n",
        "    wr.writerows([[\"Name\",\"Age\",\"Course\"],[\"Pavan\",21,\"CSE\"],[\"Kushal\",22,\"ECE\"]])\n",
        "    with open(\"data.csv\", \"r\") as file:\n",
        "        re = csv.reader(file)\n",
        "        for row in re:\n",
        "            print(row)"
      ],
      "metadata": {
        "id": "BnfXtRAWKOTF"
      },
      "execution_count": 2,
      "outputs": []
    }
  ]
}